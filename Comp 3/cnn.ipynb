{
 "cells": [
  {
   "cell_type": "code",
   "execution_count": 19,
   "metadata": {
    "scrolled": true
   },
   "outputs": [],
   "source": [
    "import pickle\n",
    "import numpy as np\n",
    "import matplotlib.pyplot as plt\n",
    "import keras\n",
    "\n",
    "from keras.models import Sequential\n",
    "from keras.utils import to_categorical\n",
    "from keras.layers import BatchNormalization, Conv2D, MaxPooling2D, Dropout, Flatten, Dense, Activation"
   ]
  },
  {
   "cell_type": "code",
   "execution_count": 11,
   "metadata": {},
   "outputs": [],
   "source": [
    "with np.load('data/train_and_test.npz') as data:\n",
    "    X_test = data['X_test']\n",
    "    y_train = data['y_train']\n",
    "    X_train = data['X_train']"
   ]
  },
  {
   "cell_type": "code",
   "execution_count": 12,
   "metadata": {},
   "outputs": [
    {
     "data": {
      "text/plain": [
       "Text(0.5, 1.0, '12')"
      ]
     },
     "execution_count": 12,
     "metadata": {},
     "output_type": "execute_result"
    },
    {
     "data": {
      "image/png": "[encoded data removed]",
      "text/plain": [
       "<Figure size 432x288 with 1 Axes>"
      ]
     },
     "metadata": {
      "needs_background": "light"
     },
     "output_type": "display_data"
    }
   ],
   "source": [
    "plt.imshow(X_train[20000])\n",
    "plt.title(y_train[20000])"
   ]
  },
  {
   "cell_type": "markdown",
   "metadata": {},
   "source": [
    "## Different tries at various models"
   ]
  },
  {
   "cell_type": "code",
   "execution_count": 13,
   "metadata": {},
   "outputs": [],
   "source": [
    "labels = set(y_train)\n",
    "img_size = 32\n",
    "n_filters = 3\n",
    "n_dense = 25"
   ]
  },
  {
   "cell_type": "code",
   "execution_count": 5,
   "metadata": {
    "scrolled": false
   },
   "outputs": [],
   "source": [
    "cnn = Sequential()\n",
    "cnn.add(Conv2D(filters=32,\n",
    "               kernel_size=(3,3), # filter size\n",
    "               strides=(1,1),\n",
    "               padding='same',\n",
    "               input_shape=(32, 32, 3),\n",
    "               activation='relu'))\n",
    "cnn.add(MaxPooling2D(pool_size=(2,2),\n",
    "                     strides=2))\n",
    "\n",
    "cnn.add(Dropout(0.4))\n",
    "\n",
    "cnn.add(Conv2D(filters=64,\n",
    "               kernel_size=(2,2),\n",
    "               strides=(1,1),\n",
    "               padding='valid'))\n",
    "cnn.add(Activation('relu'))\n",
    "cnn.add(MaxPooling2D(pool_size=(2,2),\n",
    "                     strides=2))\n",
    "\n",
    "cnn.add(Flatten())\n",
    "cnn.add(Dense(64))\n",
    "cnn.add(Activation('relu'))\n",
    "\n",
    "cnn.add(Dropout(0.4))\n",
    "\n",
    "cnn.add(Dense(1))\n",
    "cnn.add(Activation('sigmoid'))\n",
    "\n",
    "cnn.compile(loss = 'binary_crossentropy', optimizer = 'rmsprop', metrics = ['accuracy'])"
   ]
  },
  {
   "cell_type": "code",
   "execution_count": 16,
   "metadata": {},
   "outputs": [],
   "source": [
    "# https://becominghuman.ai/building-an-image-classifier-using-deep-learning-in-python-totally-from-a-beginners-perspective-be8dbaf22dd8\n",
    "\n",
    "cnn = Sequential()\n",
    "cnn.add(Conv2D(filters=32,\n",
    "               kernel_size=(3,3), # filter size\n",
    "               strides=(1,1),\n",
    "               padding='same',\n",
    "               input_shape=(32, 32, 3),\n",
    "               activation='relu'))\n",
    "cnn.add(MaxPooling2D(pool_size=(2,2),\n",
    "                     strides=2))\n",
    "cnn.add(Flatten())\n",
    "cnn.add(Dense(units=128, activation='relu')) # hidden layer. TODO: optimize units value\n",
    "cnn.add(Dense(units=1, activation='sigmoid'))\n",
    "# adam=ADAM\n",
    "cnn.compile(optimizer='adam', loss='binary_crossentropy', metrics=['accuracy'])"
   ]
  },
  {
   "cell_type": "markdown",
   "metadata": {},
   "source": [
    "### Accuracy = 0.046 vv"
   ]
  },
  {
   "cell_type": "code",
   "execution_count": 33,
   "metadata": {},
   "outputs": [],
   "source": [
    "# https://www.dlology.com/blog/one-simple-trick-to-train-keras-model-faster-with-batch-normalization/\n",
    "# https://adeshpande3.github.io/A-Beginner%27s-Guide-To-Understanding-Convolutional-Neural-Networks-Part-2/\n",
    "\n",
    "# bad model\n",
    "cnn = Sequential()\n",
    "cnn.add(Conv2D(32, (3,3), use_bias=False))\n",
    "cnn.add(BatchNormalization())\n",
    "cnn.add(Activation('relu'))\n",
    "\n",
    "cnn.add(MaxPooling2D(pool_size=(2,2),\n",
    "                     strides=2))\n",
    "\n",
    "cnn.add(Conv2D(32, (3,3), use_bias=False))\n",
    "cnn.add(BatchNormalization())\n",
    "cnn.add(Activation('relu'))\n",
    "\n",
    "cnn.add(MaxPooling2D(pool_size=(2,2),\n",
    "                     strides=2))\n",
    "\n",
    "cnn.add(Conv2D(32, (3,3), use_bias=False))\n",
    "cnn.add(BatchNormalization())\n",
    "cnn.add(Activation('relu'))\n",
    "\n",
    "cnn.add(Flatten())\n",
    "\n",
    "cnn.add(Dense(units=1, activation='relu'))\n",
    "\n",
    "cnn.compile(optimizer='adam', loss='binary_crossentropy', metrics=['accuracy'])"
   ]
  },
  {
   "cell_type": "markdown",
   "metadata": {},
   "source": [
    "### Actually working model??? !! vv\n",
    "#### Accuracy caps off at 15 epochs"
   ]
  },
  {
   "cell_type": "code",
   "execution_count": 44,
   "metadata": {},
   "outputs": [
    {
     "name": "stdout",
     "output_type": "stream",
     "text": [
      "Model: \"sequential_16\"\n",
      "_________________________________________________________________\n",
      "Layer (type)                 Output Shape              Param #   \n",
      "=================================================================\n",
      "conv2d_36 (Conv2D)           (None, 32, 32, 32)        416       \n",
      "_________________________________________________________________\n",
      "batch_normalization_35 (Batc (None, 32, 32, 32)        128       \n",
      "_________________________________________________________________\n",
      "max_pooling2d_27 (MaxPooling (None, 16, 16, 32)        0         \n",
      "_________________________________________________________________\n",
      "dropout_15 (Dropout)         (None, 16, 16, 32)        0         \n",
      "_________________________________________________________________\n",
      "conv2d_37 (Conv2D)           (None, 16, 16, 64)        8256      \n",
      "_________________________________________________________________\n",
      "batch_normalization_36 (Batc (None, 16, 16, 64)        256       \n",
      "_________________________________________________________________\n",
      "max_pooling2d_28 (MaxPooling (None, 8, 8, 64)          0         \n",
      "_________________________________________________________________\n",
      "dropout_16 (Dropout)         (None, 8, 8, 64)          0         \n",
      "_________________________________________________________________\n",
      "conv2d_38 (Conv2D)           (None, 8, 8, 64)          16448     \n",
      "_________________________________________________________________\n",
      "batch_normalization_37 (Batc (None, 8, 8, 64)          256       \n",
      "_________________________________________________________________\n",
      "max_pooling2d_29 (MaxPooling (None, 4, 4, 64)          0         \n",
      "_________________________________________________________________\n",
      "dropout_17 (Dropout)         (None, 4, 4, 64)          0         \n",
      "_________________________________________________________________\n",
      "flatten_14 (Flatten)         (None, 1024)              0         \n",
      "_________________________________________________________________\n",
      "dense_22 (Dense)             (None, 64)                65536     \n",
      "_________________________________________________________________\n",
      "batch_normalization_38 (Batc (None, 64)                256       \n",
      "_________________________________________________________________\n",
      "activation_34 (Activation)   (None, 64)                0         \n",
      "_________________________________________________________________\n",
      "dropout_18 (Dropout)         (None, 64)                0         \n",
      "_________________________________________________________________\n",
      "dense_23 (Dense)             (None, 43)                2795      \n",
      "_________________________________________________________________\n",
      "activation_35 (Activation)   (None, 43)                0         \n",
      "=================================================================\n",
      "Total params: 94,347\n",
      "Trainable params: 93,899\n",
      "Non-trainable params: 448\n",
      "_________________________________________________________________\n"
     ]
    },
    {
     "name": "stderr",
     "output_type": "stream",
     "text": [
      "/home/tiffany/.local/lib/python3.6/site-packages/ipykernel_launcher.py:21: UserWarning: Update your `Conv2D` call to the Keras 2 API: `Conv2D(64, kernel_size=(2, 2), activation=\"relu\", padding=\"same\")`\n",
      "/home/tiffany/.local/lib/python3.6/site-packages/ipykernel_launcher.py:27: UserWarning: Update your `Conv2D` call to the Keras 2 API: `Conv2D(64, kernel_size=(2, 2), activation=\"relu\", padding=\"same\")`\n"
     ]
    }
   ],
   "source": [
    "# https://www.kaggle.com/kentaroyoshioka47/cnn-with-batchnormalization-in-keras-94\n",
    "\n",
    "img_rows, img_cols = 32, 32\n",
    "input_shape = (img_rows, img_cols, 3)\n",
    "batch_size = 128\n",
    "num_classes = 10\n",
    "epochs = 100\n",
    "filter_pixel = 2\n",
    "noise = 1\n",
    "droprate = 0.25\n",
    "\n",
    "model = Sequential()\n",
    "#convolution 1st layer\n",
    "model.add(Conv2D(32, kernel_size=(filter_pixel, filter_pixel), padding=\"same\",\n",
    "                 activation='relu',\n",
    "                 input_shape=input_shape)) #0\n",
    "model.add(BatchNormalization())\n",
    "model.add(MaxPooling2D(pool_size=(2,2),\n",
    "                       strides=2))\n",
    "model.add(Dropout(droprate))#3\n",
    "\n",
    "#convolution 2nd layer\n",
    "model.add(Conv2D(64, kernel_size=(filter_pixel, filter_pixel), activation='relu',border_mode=\"same\"))#1\n",
    "model.add(BatchNormalization())\n",
    "model.add(MaxPooling2D())\n",
    "model.add(Dropout(droprate))#3\n",
    "\n",
    "#convolution 3rd layer\n",
    "model.add(Conv2D(64, kernel_size=(filter_pixel, filter_pixel), activation='relu',border_mode=\"same\"))#1\n",
    "model.add(BatchNormalization())\n",
    "model.add(MaxPooling2D())\n",
    "model.add(Dropout(droprate))#3\n",
    "\n",
    "#Fully connected 1st layer\n",
    "model.add(Flatten()) #7\n",
    "model.add(Dense(64,use_bias=False)) #13\n",
    "model.add(BatchNormalization())\n",
    "model.add(Activation('relu')) #14\n",
    "model.add(Dropout(droprate))      #15\n",
    "\n",
    "#Fully connected final layer\n",
    "model.add(Dense(43)) #8\n",
    "model.add(Activation('softmax')) #9\n",
    "# model.add(Activation('sigmoid'))\n",
    "\n",
    "\n",
    "model.compile(loss=keras.losses.categorical_crossentropy,\n",
    "              optimizer=keras.optimizers.Adam(learning_rate=0.001),\n",
    "              metrics=['accuracy'])\n",
    "\n",
    "model.summary()"
   ]
  },
  {
   "cell_type": "code",
   "execution_count": null,
   "metadata": {},
   "outputs": [
    {
     "name": "stdout",
     "output_type": "stream",
     "text": [
      "Epoch 1/25\n",
      "39209/39209 [==============================] - 37s 954us/step - loss: 1.7698 - accuracy: 0.5001\n",
      "Epoch 2/25\n",
      "39209/39209 [==============================] - 43s 1ms/step - loss: 0.5929 - accuracy: 0.8178\n",
      "Epoch 3/25\n",
      "39209/39209 [==============================] - 43s 1ms/step - loss: 0.3633 - accuracy: 0.8875\n",
      "Epoch 4/25\n",
      "39209/39209 [==============================] - 42s 1ms/step - loss: 0.2769 - accuracy: 0.9129\n",
      "Epoch 5/25\n",
      "39209/39209 [==============================] - 42s 1ms/step - loss: 0.2336 - accuracy: 0.9256\n",
      "Epoch 6/25\n",
      "39209/39209 [==============================] - 44s 1ms/step - loss: 0.2045 - accuracy: 0.9338\n",
      "Epoch 7/25\n",
      "39209/39209 [==============================] - 41s 1ms/step - loss: 0.1847 - accuracy: 0.9404\n",
      "Epoch 8/25\n",
      "39209/39209 [==============================] - 38s 979us/step - loss: 0.1718 - accuracy: 0.9441\n",
      "Epoch 9/25\n",
      "39209/39209 [==============================] - 39s 988us/step - loss: 0.1538 - accuracy: 0.9502\n",
      "Epoch 10/25\n",
      "39209/39209 [==============================] - 39s 1ms/step - loss: 0.1484 - accuracy: 0.9507\n",
      "Epoch 11/25\n",
      "39209/39209 [==============================] - 41s 1ms/step - loss: 0.1428 - accuracy: 0.9534\n",
      "Epoch 12/25\n",
      "39209/39209 [==============================] - 40s 1ms/step - loss: 0.1351 - accuracy: 0.9551\n",
      "Epoch 13/25\n",
      "39209/39209 [==============================] - 42s 1ms/step - loss: 0.1354 - accuracy: 0.9561\n",
      "Epoch 14/25\n",
      "39209/39209 [==============================] - 43s 1ms/step - loss: 0.1197 - accuracy: 0.9616\n",
      "Epoch 15/25\n",
      "39209/39209 [==============================] - 42s 1ms/step - loss: 0.1176 - accuracy: 0.9617\n",
      "Epoch 16/25\n",
      "39209/39209 [==============================] - 44s 1ms/step - loss: 0.1155 - accuracy: 0.9620\n",
      "Epoch 17/25\n",
      "39209/39209 [==============================] - 40s 1ms/step - loss: 0.1071 - accuracy: 0.9647\n",
      "Epoch 18/25\n",
      "39209/39209 [==============================] - 39s 1ms/step - loss: 0.1085 - accuracy: 0.9635\n",
      "Epoch 19/25\n",
      "39209/39209 [==============================] - 40s 1ms/step - loss: 0.1065 - accuracy: 0.9648\n",
      "Epoch 20/25\n",
      "39209/39209 [==============================] - 40s 1ms/step - loss: 0.1011 - accuracy: 0.9676\n",
      "Epoch 21/25\n",
      "39209/39209 [==============================] - 43s 1ms/step - loss: 0.1039 - accuracy: 0.9662\n",
      "Epoch 22/25\n",
      "39209/39209 [==============================] - 42s 1ms/step - loss: 0.0954 - accuracy: 0.9687\n",
      "Epoch 23/25\n",
      "39209/39209 [==============================] - 44s 1ms/step - loss: 0.0946 - accuracy: 0.9696\n",
      "Epoch 24/25\n",
      "39209/39209 [==============================] - 44s 1ms/step - loss: 0.0942 - accuracy: 0.9687\n",
      "Epoch 25/25\n",
      "27488/39209 [====================>.........] - ETA: 12s - loss: 0.0902 - accuracy: 0.9704"
     ]
    }
   ],
   "source": [
    "EPOCHS = 25\n",
    "BATCH_SIZE = 32\n",
    "y_binary = to_categorical(y_train)\n",
    "hist = model.fit(X_train, \n",
    "               y_binary, \n",
    "               epochs=EPOCHS,\n",
    "               batch_size=BATCH_SIZE)"
   ]
  },
  {
   "cell_type": "code",
   "execution_count": 7,
   "metadata": {},
   "outputs": [],
   "source": [
    "result = model.predict(X_train)"
   ]
  }
 ],
 "metadata": {
  "kernelspec": {
   "display_name": "Python 3",
   "language": "python",
   "name": "python3"
  },
  "language_info": {
   "codemirror_mode": {
    "name": "ipython",
    "version": 3
   },
   "file_extension": ".py",
   "mimetype": "text/x-python",
   "name": "python",
   "nbconvert_exporter": "python",
   "pygments_lexer": "ipython3",
   "version": "3.6.9"
  }
 },
 "nbformat": 4,
 "nbformat_minor": 2
}
