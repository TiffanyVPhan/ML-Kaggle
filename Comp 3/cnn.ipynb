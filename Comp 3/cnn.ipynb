{
 "cells": [
  {
   "cell_type": "code",
   "execution_count": null,
   "metadata": {
    "scrolled": true
   },
   "outputs": [],
   "source": [
    "import pickle\n",
    "import numpy as np\n",
    "import matplotlib.pyplot as plt\n",
    "import keras\n",
    "\n",
    "from keras.models import Sequential\n",
    "from keras.utils import to_categorical\n",
    "from keras.layers import BatchNormalization, Conv2D, MaxPooling2D, Dropout, Flatten, Dense, Activation"
   ]
  },
  {
   "cell_type": "code",
   "execution_count": null,
   "metadata": {},
   "outputs": [],
   "source": [
    "with np.load('data/train_and_test.npz') as data:\n",
    "    X_test = data['X_test']\n",
    "    y_train = data['y_train']\n",
    "    X_train = data['X_train']"
   ]
  },
  {
   "cell_type": "code",
   "execution_count": null,
   "metadata": {},
   "outputs": [],
   "source": [
    "plt.imshow(X_train[20000])\n",
    "plt.title(y_train[20000])"
   ]
  },
  {
   "cell_type": "markdown",
   "metadata": {},
   "source": [
    "## Different tries at various models"
   ]
  },
  {
   "cell_type": "code",
   "execution_count": null,
   "metadata": {},
   "outputs": [],
   "source": [
    "labels = set(y_train)\n",
    "img_size = 32\n",
    "n_filters = 3\n",
    "n_dense = 25"
   ]
  },
  {
   "cell_type": "code",
   "execution_count": null,
   "metadata": {
    "scrolled": false
   },
   "outputs": [],
   "source": [
    "cnn = Sequential()\n",
    "cnn.add(Conv2D(filters=32,\n",
    "               kernel_size=(3,3), # filter size\n",
    "               strides=(1,1),\n",
    "               padding='same',\n",
    "               input_shape=(32, 32, 3),\n",
    "               activation='relu'))\n",
    "cnn.add(MaxPooling2D(pool_size=(2,2),\n",
    "                     strides=2))\n",
    "\n",
    "cnn.add(Dropout(0.4))\n",
    "\n",
    "cnn.add(Conv2D(filters=64,\n",
    "               kernel_size=(2,2),\n",
    "               strides=(1,1),\n",
    "               padding='valid'))\n",
    "cnn.add(Activation('relu'))\n",
    "cnn.add(MaxPooling2D(pool_size=(2,2),\n",
    "                     strides=2))\n",
    "\n",
    "cnn.add(Flatten())\n",
    "cnn.add(Dense(64))\n",
    "cnn.add(Activation('relu'))\n",
    "\n",
    "cnn.add(Dropout(0.4))\n",
    "\n",
    "cnn.add(Dense(1))\n",
    "cnn.add(Activation('sigmoid'))\n",
    "\n",
    "cnn.compile(loss = 'binary_crossentropy', optimizer = 'rmsprop', metrics = ['accuracy'])"
   ]
  },
  {
   "cell_type": "code",
   "execution_count": null,
   "metadata": {},
   "outputs": [],
   "source": [
    "# https://becominghuman.ai/building-an-image-classifier-using-deep-learning-in-python-totally-from-a-beginners-perspective-be8dbaf22dd8\n",
    "\n",
    "cnn = Sequential()\n",
    "cnn.add(Conv2D(filters=32,\n",
    "               kernel_size=(3,3), # filter size\n",
    "               strides=(1,1),\n",
    "               padding='same',\n",
    "               input_shape=(32, 32, 3),\n",
    "               activation='relu'))\n",
    "cnn.add(MaxPooling2D(pool_size=(2,2),\n",
    "                     strides=2))\n",
    "cnn.add(Flatten())\n",
    "cnn.add(Dense(units=128, activation='relu')) # hidden layer. TODO: optimize units value\n",
    "cnn.add(Dense(units=1, activation='sigmoid'))\n",
    "cnn.compile(optimizer='adam', loss='binary_crossentropy', metrics=['accuracy'])"
   ]
  },
  {
   "cell_type": "markdown",
   "metadata": {},
   "source": [
    "### Accuracy = 0.046 vv"
   ]
  },
  {
   "cell_type": "code",
   "execution_count": null,
   "metadata": {},
   "outputs": [],
   "source": [
    "# https://www.dlology.com/blog/one-simple-trick-to-train-keras-model-faster-with-batch-normalization/\n",
    "# https://adeshpande3.github.io/A-Beginner%27s-Guide-To-Understanding-Convolutional-Neural-Networks-Part-2/\n",
    "\n",
    "# bad model\n",
    "cnn = Sequential()\n",
    "cnn.add(Conv2D(32, (3,3), use_bias=False))\n",
    "cnn.add(BatchNormalization())\n",
    "cnn.add(Activation('relu'))\n",
    "\n",
    "cnn.add(MaxPooling2D(pool_size=(2,2),\n",
    "                     strides=2))\n",
    "\n",
    "cnn.add(Conv2D(32, (3,3), use_bias=False))\n",
    "cnn.add(BatchNormalization())\n",
    "cnn.add(Activation('relu'))\n",
    "\n",
    "cnn.add(MaxPooling2D(pool_size=(2,2),\n",
    "                     strides=2))\n",
    "\n",
    "cnn.add(Conv2D(32, (3,3), use_bias=False))\n",
    "cnn.add(BatchNormalization())\n",
    "cnn.add(Activation('relu'))\n",
    "\n",
    "cnn.add(Flatten())\n",
    "\n",
    "cnn.add(Dense(units=1, activation='relu'))\n",
    "\n",
    "cnn.compile(optimizer='adam', loss='binary_crossentropy', metrics=['accuracy'])"
   ]
  },
  {
   "cell_type": "markdown",
   "metadata": {},
   "source": [
    "### Actually working model??? !! vv\n",
    "#### Accuracy caps off at 15 epochs"
   ]
  },
  {
   "cell_type": "code",
   "execution_count": null,
   "metadata": {},
   "outputs": [],
   "source": [
    "# https://www.kaggle.com/kentaroyoshioka47/cnn-with-batchnormalization-in-keras-94\n",
    "\n",
    "img_rows, img_cols = 32, 32\n",
    "input_shape = (img_rows, img_cols, 3)\n",
    "batch_size = 128\n",
    "num_classes = 10\n",
    "epochs = 100\n",
    "filter_pixel = 2\n",
    "noise = 1\n",
    "droprate = 0.25\n",
    "\n",
    "model = Sequential()\n",
    "#convolution 1st layer\n",
    "model.add(Conv2D(32, kernel_size=(filter_pixel, filter_pixel), padding=\"same\",\n",
    "                 activation='relu',\n",
    "                 input_shape=input_shape)) \n",
    "model.add(BatchNormalization())\n",
    "model.add(MaxPooling2D(pool_size=(2,2),\n",
    "                       strides=2))\n",
    "model.add(Dropout(droprate))\n",
    "\n",
    "#convolution 2nd layer\n",
    "model.add(Conv2D(64, kernel_size=(filter_pixel, filter_pixel), activation='relu',border_mode=\"same\"))#1\n",
    "model.add(BatchNormalization())\n",
    "model.add(MaxPooling2D())\n",
    "model.add(Dropout(droprate))\n",
    "\n",
    "#convolution 3rd layer\n",
    "model.add(Conv2D(64, kernel_size=(filter_pixel, filter_pixel), activation='relu',border_mode=\"same\"))#1\n",
    "model.add(BatchNormalization())\n",
    "model.add(MaxPooling2D())\n",
    "model.add(Dropout(droprate))\n",
    "\n",
    "#Fully connected 1st layer\n",
    "model.add(Flatten()) #7\n",
    "model.add(Dense(64,use_bias=False)) \n",
    "model.add(BatchNormalization())\n",
    "model.add(Activation('relu')) \n",
    "model.add(Dropout(droprate))      \n",
    "\n",
    "#Fully connected final layer\n",
    "model.add(Dense(43)) \n",
    "model.add(Activation('softmax')) \n",
    "\n",
    "model.compile(loss=keras.losses.categorical_crossentropy,\n",
    "              optimizer=keras.optimizers.Adam(learning_rate=0.001),\n",
    "              metrics=['accuracy'])\n",
    "\n",
    "model.summary()"
   ]
  },
  {
   "cell_type": "code",
   "execution_count": null,
   "metadata": {},
   "outputs": [],
   "source": [
    "EPOCHS = 15\n",
    "BATCH_SIZE = 32\n",
    "y_binary = to_categorical(y_train)\n",
    "hist = model.fit(X_train, \n",
    "               y_binary, \n",
    "               epochs=EPOCHS,\n",
    "               batch_size=BATCH_SIZE)"
   ]
  },
  {
   "cell_type": "code",
   "execution_count": null,
   "metadata": {},
   "outputs": [],
   "source": [
    "result = model.predict(X_train)"
   ]
  },
  {
   "cell_type": "code",
   "execution_count": null,
   "metadata": {},
   "outputs": [],
   "source": [
    "test_result = model.predict(X_test)\n",
    "\n",
    "yay = [list(t).index(max(t)) for t in test_result]\n",
    "\n",
    "with open('submission.csv', 'w') as file:\n",
    "    file.write('id, labels\\n')\n",
    "    for i, label in enumerate(yay):\n",
    "        file.write('{},{}\\n'.format(i, label))"
   ]
  }
 ],
 "metadata": {
  "kernelspec": {
   "display_name": "Python 3",
   "language": "python",
   "name": "python3"
  },
  "language_info": {
   "codemirror_mode": {
    "name": "ipython",
    "version": 3
   },
   "file_extension": ".py",
   "mimetype": "text/x-python",
   "name": "python",
   "nbconvert_exporter": "python",
   "pygments_lexer": "ipython3",
   "version": "3.6.9"
  }
 },
 "nbformat": 4,
 "nbformat_minor": 2
}
