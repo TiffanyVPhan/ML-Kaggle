{
 "cells": [
  {
   "cell_type": "code",
   "execution_count": null,
   "metadata": {
    "scrolled": true
   },
   "outputs": [],
   "source": [
    "import numpy as np\n",
    "import matplotlib.pyplot as plt\n",
    "import keras\n",
    "\n",
    "from keras.models import Sequential\n",
    "from keras.utils import to_categorical\n",
    "from keras.layers import BatchNormalization, Conv2D, MaxPooling2D, Dropout, Flatten, Dense, Activation"
   ]
  },
  {
   "cell_type": "markdown",
   "source": [
    "# Loading In Data"
   ],
   "metadata": {
    "collapsed": false,
    "pycharm": {
     "name": "#%% md\n"
    }
   }
  },
  {
   "cell_type": "code",
   "execution_count": null,
   "metadata": {},
   "outputs": [],
   "source": [
    "with np.load('data/train_and_test.npz') as data:\n",
    "    X_test = data['X_test']\n",
    "    y_train = data['y_train']\n",
    "    X_train = data['X_train']"
   ]
  },
  {
   "cell_type": "code",
   "execution_count": null,
   "metadata": {},
   "outputs": [],
   "source": [
    "plt.imshow(X_train[20000])\n",
    "plt.title(y_train[20000])"
   ]
  },
  {
   "cell_type": "markdown",
   "metadata": {},
   "source": [
    "# Keras Convolutional Neural Network"
   ]
  },
  {
   "cell_type": "code",
   "execution_count": null,
   "metadata": {},
   "outputs": [],
   "source": [
    "INPUT_SHAPE = (32, 32, 3)\n",
    "KERNEL_SIZE = (2, 2)\n",
    "POOL_SIZE = (2, 2)\n",
    "STRIDES = 2\n",
    "DROP_RATE = 0.25\n",
    "LEARNING_RATE = 0.001\n",
    "\n",
    "model = Sequential([\n",
    "    Conv2D(32, kernel_size=KERNEL_SIZE, padding='same', activation='relu', input_shape=INPUT_SHAPE),\n",
    "    BatchNormalization(),\n",
    "    MaxPooling2D(pool_size=POOL_SIZE, strides=STRIDES),\n",
    "    Dropout(DROP_RATE),\n",
    "    Conv2D(64, kernel_size=KERNEL_SIZE, activation='relu', border_mode='same'),\n",
    "    BatchNormalization(),\n",
    "    MaxPooling2D(),\n",
    "    Dropout(DROP_RATE),\n",
    "    Conv2D(64, kernel_size=KERNEL_SIZE, activation='relu', border_mode='same'),\n",
    "    BatchNormalization(),\n",
    "    MaxPooling2D(),\n",
    "    Dropout(DROP_RATE),\n",
    "    Flatten(),\n",
    "    Dense(64, use_bias=False),\n",
    "    BatchNormalization(),\n",
    "    Activation('relu'),\n",
    "    Dropout(DROP_RATE),\n",
    "    Dense(43),\n",
    "    Activation('softmax'),\n",
    "])\n",
    "\n",
    "model.compile(\n",
    "    loss=keras.losses.categorical_crossentropy,\n",
    "    optimizer=keras.optimizers.Adam(learning_rate=LEARNING_RATE),\n",
    "    metrics=['accuracy'],\n",
    ")\n",
    "\n",
    "model.summary()"
   ]
  },
  {
   "cell_type": "markdown",
   "source": [
    "# Training Model"
   ],
   "metadata": {
    "collapsed": false,
    "pycharm": {
     "name": "#%% md\n"
    }
   }
  },
  {
   "cell_type": "code",
   "execution_count": null,
   "metadata": {},
   "outputs": [],
   "source": [
    "y_categorical = to_categorical(y_train)\n",
    "model.fit(X_train, y_categorical, epochs=20, batch_size=32)"
   ]
  },
  {
   "cell_type": "markdown",
   "source": [
    "# Predict And Produce Submission File"
   ],
   "metadata": {
    "collapsed": false,
    "pycharm": {
     "name": "#%% md\n"
    }
   }
  },
  {
   "cell_type": "code",
   "execution_count": null,
   "metadata": {},
   "outputs": [],
   "source": [
    "result = [list(prediction).index(max(prediction)) for prediction in model.predict(X_test)]\n",
    "\n",
    "with open('submission.csv', 'w') as submission_file:\n",
    "    submission_file.write('id, labels\\n')\n",
    "    for index, label in enumerate(result):\n",
    "        submission_file.write('{},{}\\n'.format(index, label))"
   ]
  }
 ],
 "metadata": {
  "kernelspec": {
   "display_name": "Python 3",
   "language": "python",
   "name": "python3"
  },
  "language_info": {
   "codemirror_mode": {
    "name": "ipython",
    "version": 3
   },
   "file_extension": ".py",
   "mimetype": "text/x-python",
   "name": "python",
   "nbconvert_exporter": "python",
   "pygments_lexer": "ipython3",
   "version": "3.6.9"
  }
 },
 "nbformat": 4,
 "nbformat_minor": 2
}