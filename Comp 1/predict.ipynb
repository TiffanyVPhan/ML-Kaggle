{
 "cells": [
  {
   "cell_type": "code",
   "execution_count": 11,
   "outputs": [],
   "source": [
    "import matplotlib\n",
    "import pandas as pd\n",
    "import numpy as np\n",
    "\n",
    "from sklearn.model_selection import train_test_split\n",
    "from sklearn import linear_model\n",
    "from sklearn.tree import DecisionTreeClassifier"
   ],
   "metadata": {
    "collapsed": false,
    "pycharm": {
     "name": "#%%\n",
     "is_executing": false
    }
   }
  },
  {
   "cell_type": "code",
   "execution_count": 12,
   "outputs": [],
   "source": [
    "df = pd.read_csv('data/train_data.csv')"
   ],
   "metadata": {
    "collapsed": false,
    "pycharm": {
     "name": "#%%\n",
     "is_executing": false
    }
   }
  },
  {
   "cell_type": "code",
   "execution_count": 13,
   "outputs": [
    {
     "data": {
      "text/plain": "   Unnamed: 0          id             date  bedrooms  bathrooms  sqft_living  \\\n0        7291  4058200630  20141002T000000         3       1.75         2190   \n1       14835  3613600150  20150105T000000         3       2.50         2370   \n2       15880  7170200080  20140617T000000         2       1.00         1230   \n3        8812  9542300530  20141124T000000         4       2.25         2510   \n4       17220  3626039028  20140818T000000         3       1.00         1160   \n\n   sqft_lot  floors  waterfront  view  ...  sqft_above  sqft_basement  \\\n0      7021     1.0           0     2  ...        1390            800   \n1      6840     2.0           0     0  ...        2370              0   \n2      3800     1.0           0     0  ...        1230              0   \n3      9963     1.0           0     0  ...        2200            310   \n4      7491     1.0           0     0  ...        1160              0   \n\n   yr_built  yr_renovated  zipcode      lat     long  sqft_living15  \\\n0      1953             0    98178  47.5033 -122.232           2180   \n1      1987             0    98119  47.6503 -122.366           1590   \n2      1928             0    98115  47.6797 -122.292           1610   \n3      1967             0    98005  47.5973 -122.177           3110   \n4      1917             0    98177  47.7024 -122.359           1800   \n\n   sqft_lot15   price  \n0        7155  353000  \n1        4400  300523  \n2        3800  435000  \n3        9963  800000  \n4        2267  417500  \n\n[5 rows x 22 columns]",
      "text/html": "<div>\n<style scoped>\n    .dataframe tbody tr th:only-of-type {\n        vertical-align: middle;\n    }\n\n    .dataframe tbody tr th {\n        vertical-align: top;\n    }\n\n    .dataframe thead th {\n        text-align: right;\n    }\n</style>\n<table border=\"1\" class=\"dataframe\">\n  <thead>\n    <tr style=\"text-align: right;\">\n      <th></th>\n      <th>Unnamed: 0</th>\n      <th>id</th>\n      <th>date</th>\n      <th>bedrooms</th>\n      <th>bathrooms</th>\n      <th>sqft_living</th>\n      <th>sqft_lot</th>\n      <th>floors</th>\n      <th>waterfront</th>\n      <th>view</th>\n      <th>...</th>\n      <th>sqft_above</th>\n      <th>sqft_basement</th>\n      <th>yr_built</th>\n      <th>yr_renovated</th>\n      <th>zipcode</th>\n      <th>lat</th>\n      <th>long</th>\n      <th>sqft_living15</th>\n      <th>sqft_lot15</th>\n      <th>price</th>\n    </tr>\n  </thead>\n  <tbody>\n    <tr>\n      <td>0</td>\n      <td>7291</td>\n      <td>4058200630</td>\n      <td>20141002T000000</td>\n      <td>3</td>\n      <td>1.75</td>\n      <td>2190</td>\n      <td>7021</td>\n      <td>1.0</td>\n      <td>0</td>\n      <td>2</td>\n      <td>...</td>\n      <td>1390</td>\n      <td>800</td>\n      <td>1953</td>\n      <td>0</td>\n      <td>98178</td>\n      <td>47.5033</td>\n      <td>-122.232</td>\n      <td>2180</td>\n      <td>7155</td>\n      <td>353000</td>\n    </tr>\n    <tr>\n      <td>1</td>\n      <td>14835</td>\n      <td>3613600150</td>\n      <td>20150105T000000</td>\n      <td>3</td>\n      <td>2.50</td>\n      <td>2370</td>\n      <td>6840</td>\n      <td>2.0</td>\n      <td>0</td>\n      <td>0</td>\n      <td>...</td>\n      <td>2370</td>\n      <td>0</td>\n      <td>1987</td>\n      <td>0</td>\n      <td>98119</td>\n      <td>47.6503</td>\n      <td>-122.366</td>\n      <td>1590</td>\n      <td>4400</td>\n      <td>300523</td>\n    </tr>\n    <tr>\n      <td>2</td>\n      <td>15880</td>\n      <td>7170200080</td>\n      <td>20140617T000000</td>\n      <td>2</td>\n      <td>1.00</td>\n      <td>1230</td>\n      <td>3800</td>\n      <td>1.0</td>\n      <td>0</td>\n      <td>0</td>\n      <td>...</td>\n      <td>1230</td>\n      <td>0</td>\n      <td>1928</td>\n      <td>0</td>\n      <td>98115</td>\n      <td>47.6797</td>\n      <td>-122.292</td>\n      <td>1610</td>\n      <td>3800</td>\n      <td>435000</td>\n    </tr>\n    <tr>\n      <td>3</td>\n      <td>8812</td>\n      <td>9542300530</td>\n      <td>20141124T000000</td>\n      <td>4</td>\n      <td>2.25</td>\n      <td>2510</td>\n      <td>9963</td>\n      <td>1.0</td>\n      <td>0</td>\n      <td>0</td>\n      <td>...</td>\n      <td>2200</td>\n      <td>310</td>\n      <td>1967</td>\n      <td>0</td>\n      <td>98005</td>\n      <td>47.5973</td>\n      <td>-122.177</td>\n      <td>3110</td>\n      <td>9963</td>\n      <td>800000</td>\n    </tr>\n    <tr>\n      <td>4</td>\n      <td>17220</td>\n      <td>3626039028</td>\n      <td>20140818T000000</td>\n      <td>3</td>\n      <td>1.00</td>\n      <td>1160</td>\n      <td>7491</td>\n      <td>1.0</td>\n      <td>0</td>\n      <td>0</td>\n      <td>...</td>\n      <td>1160</td>\n      <td>0</td>\n      <td>1917</td>\n      <td>0</td>\n      <td>98177</td>\n      <td>47.7024</td>\n      <td>-122.359</td>\n      <td>1800</td>\n      <td>2267</td>\n      <td>417500</td>\n    </tr>\n  </tbody>\n</table>\n<p>5 rows × 22 columns</p>\n</div>"
     },
     "metadata": {},
     "output_type": "execute_result",
     "execution_count": 13
    }
   ],
   "source": [
    "df.head()"
   ],
   "metadata": {
    "collapsed": false,
    "pycharm": {
     "name": "#%%\n",
     "is_executing": false
    }
   }
  },
  {
   "cell_type": "code",
   "execution_count": 14,
   "outputs": [],
   "source": [
    "x_train, x_test, y_train, y_test = train_test_split(\n",
    "    df[[\n",
    "        'bedrooms',\n",
    "        'bathrooms',\n",
    "        'sqft_living',\n",
    "        'sqft_lot',\n",
    "        'floors',\n",
    "        'waterfront',\n",
    "        'view',\n",
    "        'condition',\n",
    "        'grade',\n",
    "        'sqft_above',\n",
    "        'sqft_basement',\n",
    "        'yr_built',\n",
    "        'yr_renovated',\n",
    "        'sqft_living15',\n",
    "        'sqft_lot15',\n",
    "    ]], \n",
    "    df['price'], \n",
    "    test_size=0.33\n",
    ")"
   ],
   "metadata": {
    "collapsed": false,
    "pycharm": {
     "name": "#%%\n",
     "is_executing": false
    }
   }
  },
  {
   "cell_type": "code",
   "execution_count": 26,
   "outputs": [
    {
     "data": {
      "text/plain": "LinearRegression(copy_X=True, fit_intercept=True, n_jobs=None, normalize=False)"
     },
     "metadata": {},
     "output_type": "execute_result",
     "execution_count": 26
    }
   ],
   "source": [
    "regr = linear_model.LinearRegression()\n",
    "regr.fit(x_train, y_train)"
   ],
   "metadata": {
    "collapsed": false,
    "pycharm": {
     "name": "#%%\n",
     "is_executing": false
    }
   }
  },
  {
   "cell_type": "code",
   "execution_count": 27,
   "outputs": [
    {
     "data": {
      "text/plain": "DecisionTreeClassifier(ccp_alpha=0.0, class_weight=None, criterion='gini',\n                       max_depth=None, max_features=None, max_leaf_nodes=None,\n                       min_impurity_decrease=0.0, min_impurity_split=None,\n                       min_samples_leaf=1, min_samples_split=2,\n                       min_weight_fraction_leaf=0.0, presort='deprecated',\n                       random_state=None, splitter='best')"
     },
     "metadata": {},
     "output_type": "execute_result",
     "execution_count": 27
    }
   ],
   "source": [
    "clf = DecisionTreeClassifier()\n",
    "clf.fit(x_train, y_train)"
   ],
   "metadata": {
    "collapsed": false,
    "pycharm": {
     "name": "#%%\n",
     "is_executing": false
    }
   }
  },
  {
   "cell_type": "code",
   "execution_count": 28,
   "outputs": [
    {
     "name": "stdout",
     "text": [
      "Linear Regression: 202121.00983026106\n",
      "Decision Tree 269051.5555046699\n"
     ],
     "output_type": "stream"
    }
   ],
   "source": [
    "def rmse(predictions, actual):\n",
    "    return np.sqrt(np.mean((predictions - actual)**2))\n",
    "\n",
    "print('Linear Regression:', rmse(regr.predict(x_test), y_test))\n",
    "print('Decision Tree', rmse(clf.predict(x_test), y_test))"
   ],
   "metadata": {
    "collapsed": false,
    "pycharm": {
     "name": "#%%\n",
     "is_executing": false
    }
   }
  },
  {
   "cell_type": "markdown",
   "source": [
    "# Submission File Generation"
   ],
   "metadata": {
    "collapsed": false,
    "pycharm": {
     "name": "#%% md\n"
    }
   }
  },
  {
   "cell_type": "code",
   "execution_count": 16,
   "outputs": [],
   "source": [
    "dfTest = pd.read_csv('data/val_data.csv').rename({'Unnamed: 0': 'Unique_idx'}, axis='columns')"
   ],
   "metadata": {
    "collapsed": false,
    "pycharm": {
     "name": "#%%\n",
     "is_executing": false
    }
   }
  },
  {
   "cell_type": "code",
   "execution_count": 17,
   "outputs": [],
   "source": [
    "dfTest['price'] = regr.predict(dfTest[[\n",
    "    'bedrooms',\n",
    "    'bathrooms',\n",
    "    'sqft_living',\n",
    "    'sqft_lot',\n",
    "    'floors',\n",
    "    'waterfront',\n",
    "    'view',\n",
    "    'condition',\n",
    "    'grade',\n",
    "    'sqft_above',\n",
    "    'sqft_basement',\n",
    "    'yr_built',\n",
    "    'yr_renovated',\n",
    "    'sqft_living15',\n",
    "    'sqft_lot15',\n",
    "]])"
   ],
   "metadata": {
    "collapsed": false,
    "pycharm": {
     "name": "#%%\n",
     "is_executing": false
    }
   }
  },
  {
   "cell_type": "code",
   "execution_count": 18,
   "outputs": [],
   "source": [
    "dfTest[['Unique_idx', 'price']].to_csv('submission.csv', index=None, header=True)"
   ],
   "metadata": {
    "collapsed": false,
    "pycharm": {
     "name": "#%%\n",
     "is_executing": false
    }
   }
  }
 ],
 "metadata": {
  "kernelspec": {
   "display_name": "Python 3",
   "language": "python",
   "name": "python3"
  },
  "language_info": {
   "codemirror_mode": {
    "name": "ipython",
    "version": 2
   },
   "file_extension": ".py",
   "mimetype": "text/x-python",
   "name": "python",
   "nbconvert_exporter": "python",
   "pygments_lexer": "ipython2",
   "version": "2.7.6"
  },
  "pycharm": {
   "stem_cell": {
    "cell_type": "raw",
    "source": [],
    "metadata": {
     "collapsed": false
    }
   }
  }
 },
 "nbformat": 4,
 "nbformat_minor": 0
}