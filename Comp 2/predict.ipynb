{
 "cells": [
  {
   "cell_type": "code",
   "execution_count": 49,
   "metadata": {
    "collapsed": true,
    "pycharm": {
     "is_executing": false
    }
   },
   "outputs": [],
   "source": [
    "import numpy as np\n",
    "import pandas as pd\n",
    "\n",
    "from sklearn.model_selection import train_test_split"
   ]
  },
  {
   "cell_type": "code",
   "execution_count": 50,
   "outputs": [],
   "source": [
    "def print_score(model, x, y):\n",
    "    print('Score:        {:.4f}%'.format(model.score(x, y) * 100))\n",
    "    print('Kaggle Score: {:.0f}'.format(np.sqrt(np.mean((model.predict(x) - y)**2))))   "
   ],
   "metadata": {
    "collapsed": false,
    "pycharm": {
     "name": "#%%\n",
     "is_executing": false
    }
   }
  },
  {
   "cell_type": "code",
   "execution_count": 51,
   "outputs": [],
   "source": [
    "df = pd.read_csv('data/stock_XY_train.csv')"
   ],
   "metadata": {
    "collapsed": false,
    "pycharm": {
     "name": "#%%\n",
     "is_executing": false
    }
   }
  },
  {
   "cell_type": "markdown",
   "source": [
    "# Custom Model"
   ],
   "metadata": {
    "collapsed": false,
    "pycharm": {
     "name": "#%% md\n"
    }
   }
  },
  {
   "cell_type": "code",
   "execution_count": 52,
   "outputs": [],
   "source": [
    "class CustomModel:\n",
    "    \n",
    "    def __init__(self):\n",
    "        self.prediction = None\n",
    "    \n",
    "    def fit(self, x, y):\n",
    "        pass\n",
    "    \n",
    "    def predict(self, x: np.ndarray):\n",
    "        if self.prediction is None:\n",
    "            self.prediction = np.random.choice([0, 1], size=len(x))\n",
    "            \n",
    "        return self.prediction\n",
    "    \n",
    "    def score(self, x, y):\n",
    "        y_pred = self.predict(x)\n",
    "        return sum([y_pred_point == y_point for y_pred_point, y_point in zip(y_pred, y)]) / len(y)\n",
    "    "
   ],
   "metadata": {
    "collapsed": false,
    "pycharm": {
     "name": "#%%\n",
     "is_executing": false
    }
   }
  },
  {
   "cell_type": "code",
   "execution_count": 53,
   "outputs": [
    {
     "name": "stdout",
     "text": [
      "Score:        50.0202%\n",
      "Kaggle Score: 1\n"
     ],
     "output_type": "stream"
    }
   ],
   "source": [
    "x_train, x_test, y_train, y_test = train_test_split(\n",
    "    df.drop(['Buy'], axis=1),\n",
    "    df['Buy'],\n",
    "    test_size=0.4,\n",
    "    random_state=42,\n",
    ")\n",
    "\n",
    "custom_model = CustomModel()\n",
    "custom_model.fit(x_train, y_train)\n",
    "print_score(custom_model, x_test, y_test)"
   ],
   "metadata": {
    "collapsed": false,
    "pycharm": {
     "name": "#%%\n",
     "is_executing": false
    }
   }
  },
  {
   "cell_type": "markdown",
   "source": [
    "# Submission File Generation"
   ],
   "metadata": {
    "collapsed": false,
    "pycharm": {
     "name": "#%% md\n"
    }
   }
  },
  {
   "cell_type": "code",
   "execution_count": 60,
   "outputs": [
    {
     "data": {
      "text/plain": "   Unnamed: 0 Ticker       Revenue  Revenue Growth  Cost of Revenue  \\\n0       17685  CMCSA  9.450700e+10          0.1115     0.000000e+00   \n1       17686    KMI  1.414400e+10          0.0320     7.288000e+09   \n2       17687   INTC  7.084800e+10          0.1289     2.711100e+10   \n3       17688     MU  3.039100e+10          0.4955     1.250000e+10   \n4       17689     GE  1.216150e+11          0.0285     9.546100e+10   \n\n   Gross Profit  R&D Expenses  SG&A Expense  Operating Expenses  \\\n0  9.450700e+10  0.000000e+00  6.482200e+10        7.549800e+10   \n1  6.856000e+09  0.000000e+00  6.010000e+08        3.062000e+09   \n2  4.373700e+10  1.354300e+10  6.750000e+09        2.042100e+10   \n3  1.789100e+10  2.141000e+09  8.130000e+08        2.897000e+09   \n4  2.615400e+10  0.000000e+00  1.811100e+10        4.071100e+10   \n\n   Operating Income  ...  Receivables growth  Inventory Growth  Asset Growth  \\\n0      1.900900e+10  ...              0.2570            0.0000        0.3426   \n1      3.794000e+09  ...              0.0345           -0.0920       -0.0024   \n2      2.331600e+10  ...              0.1989            0.0387        0.0382   \n3      1.499400e+10  ...              0.4573            0.1511        0.2275   \n4     -1.455700e+10  ...             -0.2781           -0.2892       -0.1575   \n\n   Book Value per Share Growth  Debt Growth  R&D Expense Growth  \\\n0                       0.0722       0.7309              0.0000   \n1                       0.0076      -0.0137              0.0000   \n2                       0.1014      -0.0169              0.0390   \n3                       0.6395      -0.5841              0.1738   \n4                      -0.4487      -0.2297              0.0000   \n\n   SG&A Expenses Growth             Sector  Yr  Buy  \n0                0.1308  Consumer Cyclical  18    1  \n1               -0.1265             Energy  18    0  \n2               -0.0942         Technology  18    0  \n3                0.0942         Technology  18    1  \n4                0.0308        Industrials  18    1  \n\n[5 rows x 226 columns]",
      "text/html": "<div>\n<style scoped>\n    .dataframe tbody tr th:only-of-type {\n        vertical-align: middle;\n    }\n\n    .dataframe tbody tr th {\n        vertical-align: top;\n    }\n\n    .dataframe thead th {\n        text-align: right;\n    }\n</style>\n<table border=\"1\" class=\"dataframe\">\n  <thead>\n    <tr style=\"text-align: right;\">\n      <th></th>\n      <th>Unnamed: 0</th>\n      <th>Ticker</th>\n      <th>Revenue</th>\n      <th>Revenue Growth</th>\n      <th>Cost of Revenue</th>\n      <th>Gross Profit</th>\n      <th>R&amp;D Expenses</th>\n      <th>SG&amp;A Expense</th>\n      <th>Operating Expenses</th>\n      <th>Operating Income</th>\n      <th>...</th>\n      <th>Receivables growth</th>\n      <th>Inventory Growth</th>\n      <th>Asset Growth</th>\n      <th>Book Value per Share Growth</th>\n      <th>Debt Growth</th>\n      <th>R&amp;D Expense Growth</th>\n      <th>SG&amp;A Expenses Growth</th>\n      <th>Sector</th>\n      <th>Yr</th>\n      <th>Buy</th>\n    </tr>\n  </thead>\n  <tbody>\n    <tr>\n      <td>0</td>\n      <td>17685</td>\n      <td>CMCSA</td>\n      <td>9.450700e+10</td>\n      <td>0.1115</td>\n      <td>0.000000e+00</td>\n      <td>9.450700e+10</td>\n      <td>0.000000e+00</td>\n      <td>6.482200e+10</td>\n      <td>7.549800e+10</td>\n      <td>1.900900e+10</td>\n      <td>...</td>\n      <td>0.2570</td>\n      <td>0.0000</td>\n      <td>0.3426</td>\n      <td>0.0722</td>\n      <td>0.7309</td>\n      <td>0.0000</td>\n      <td>0.1308</td>\n      <td>Consumer Cyclical</td>\n      <td>18</td>\n      <td>1</td>\n    </tr>\n    <tr>\n      <td>1</td>\n      <td>17686</td>\n      <td>KMI</td>\n      <td>1.414400e+10</td>\n      <td>0.0320</td>\n      <td>7.288000e+09</td>\n      <td>6.856000e+09</td>\n      <td>0.000000e+00</td>\n      <td>6.010000e+08</td>\n      <td>3.062000e+09</td>\n      <td>3.794000e+09</td>\n      <td>...</td>\n      <td>0.0345</td>\n      <td>-0.0920</td>\n      <td>-0.0024</td>\n      <td>0.0076</td>\n      <td>-0.0137</td>\n      <td>0.0000</td>\n      <td>-0.1265</td>\n      <td>Energy</td>\n      <td>18</td>\n      <td>0</td>\n    </tr>\n    <tr>\n      <td>2</td>\n      <td>17687</td>\n      <td>INTC</td>\n      <td>7.084800e+10</td>\n      <td>0.1289</td>\n      <td>2.711100e+10</td>\n      <td>4.373700e+10</td>\n      <td>1.354300e+10</td>\n      <td>6.750000e+09</td>\n      <td>2.042100e+10</td>\n      <td>2.331600e+10</td>\n      <td>...</td>\n      <td>0.1989</td>\n      <td>0.0387</td>\n      <td>0.0382</td>\n      <td>0.1014</td>\n      <td>-0.0169</td>\n      <td>0.0390</td>\n      <td>-0.0942</td>\n      <td>Technology</td>\n      <td>18</td>\n      <td>0</td>\n    </tr>\n    <tr>\n      <td>3</td>\n      <td>17688</td>\n      <td>MU</td>\n      <td>3.039100e+10</td>\n      <td>0.4955</td>\n      <td>1.250000e+10</td>\n      <td>1.789100e+10</td>\n      <td>2.141000e+09</td>\n      <td>8.130000e+08</td>\n      <td>2.897000e+09</td>\n      <td>1.499400e+10</td>\n      <td>...</td>\n      <td>0.4573</td>\n      <td>0.1511</td>\n      <td>0.2275</td>\n      <td>0.6395</td>\n      <td>-0.5841</td>\n      <td>0.1738</td>\n      <td>0.0942</td>\n      <td>Technology</td>\n      <td>18</td>\n      <td>1</td>\n    </tr>\n    <tr>\n      <td>4</td>\n      <td>17689</td>\n      <td>GE</td>\n      <td>1.216150e+11</td>\n      <td>0.0285</td>\n      <td>9.546100e+10</td>\n      <td>2.615400e+10</td>\n      <td>0.000000e+00</td>\n      <td>1.811100e+10</td>\n      <td>4.071100e+10</td>\n      <td>-1.455700e+10</td>\n      <td>...</td>\n      <td>-0.2781</td>\n      <td>-0.2892</td>\n      <td>-0.1575</td>\n      <td>-0.4487</td>\n      <td>-0.2297</td>\n      <td>0.0000</td>\n      <td>0.0308</td>\n      <td>Industrials</td>\n      <td>18</td>\n      <td>1</td>\n    </tr>\n  </tbody>\n</table>\n<p>5 rows × 226 columns</p>\n</div>"
     },
     "metadata": {},
     "output_type": "execute_result",
     "execution_count": 60
    }
   ],
   "source": [
    "dfTest = pd.read_csv('data/stock_X_test.csv').drop('Unnamed: 0', axis=1).rename({'Unnamed: 0.1': 'Unnamed: 0'}, axis='columns')\n",
    "\n",
    "custom_model = CustomModel()\n",
    "custom_model.fit(\n",
    "    df.drop(['Buy'], axis=1),\n",
    "    df['Buy']\n",
    ")\n",
    "\n",
    "dfTest['Buy'] = custom_model.predict(dfTest)\n",
    "dfTest.head()"
   ],
   "metadata": {
    "collapsed": false,
    "pycharm": {
     "name": "#%%\n",
     "is_executing": false
    }
   }
  },
  {
   "cell_type": "code",
   "execution_count": 62,
   "outputs": [],
   "source": [
    "dfTest[['Unnamed: 0', 'Buy']].to_csv('submission.csv', index=None, header=True)\n"
   ],
   "metadata": {
    "collapsed": false,
    "pycharm": {
     "name": "#%%\n",
     "is_executing": false
    }
   }
  }
 ],
 "metadata": {
  "kernelspec": {
   "display_name": "Python 3",
   "language": "python",
   "name": "python3"
  },
  "language_info": {
   "codemirror_mode": {
    "name": "ipython",
    "version": 2
   },
   "file_extension": ".py",
   "mimetype": "text/x-python",
   "name": "python",
   "nbconvert_exporter": "python",
   "pygments_lexer": "ipython2",
   "version": "2.7.6"
  },
  "pycharm": {
   "stem_cell": {
    "cell_type": "raw",
    "source": [],
    "metadata": {
     "collapsed": false
    }
   }
  }
 },
 "nbformat": 4,
 "nbformat_minor": 0
}