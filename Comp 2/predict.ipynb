{
 "cells": [
  {
   "cell_type": "markdown",
   "source": [
    "# Write-Up Outline\n",
    "\n",
    "1. Trial run with random model (~17)\n",
    "2. Initial random forest test (untuned) (~14)\n",
    "3. Initial neural network test\n",
    "4. Initial gradient boosting test"
   ],
   "metadata": {
    "collapsed": false
   }
  },
  {
   "cell_type": "code",
   "execution_count": 4,
   "outputs": [
    {
     "name": "stdout",
     "text": [
      "Checking whether there is an H2O instance running at http://localhost:54321 . connected.\n"
     ],
     "output_type": "stream"
    },
    {
     "data": {
      "text/plain": "--------------------------  ------------------------------------------------------------------\nH2O cluster uptime:         1 min 11 secs\nH2O cluster timezone:       America/Denver\nH2O data parsing timezone:  UTC\nH2O cluster version:        3.28.0.3\nH2O cluster version age:    27 days\nH2O cluster name:           H2O_from_python_josh_5z3iu4\nH2O cluster total nodes:    1\nH2O cluster free memory:    3.875 Gb\nH2O cluster total cores:    8\nH2O cluster allowed cores:  8\nH2O cluster status:         locked, healthy\nH2O connection url:         http://localhost:54321\nH2O connection proxy:       {'http': None, 'https': None}\nH2O internal security:      False\nH2O API Extensions:         Amazon S3, XGBoost, Algos, AutoML, Core V3, TargetEncoder, Core V4\nPython version:             3.6.9 final\n--------------------------  ------------------------------------------------------------------",
      "text/html": "<div style=\"overflow:auto\"><table style=\"width:50%\"><tr><td>H2O cluster uptime:</td>\n<td>1 min 11 secs</td></tr>\n<tr><td>H2O cluster timezone:</td>\n<td>America/Denver</td></tr>\n<tr><td>H2O data parsing timezone:</td>\n<td>UTC</td></tr>\n<tr><td>H2O cluster version:</td>\n<td>3.28.0.3</td></tr>\n<tr><td>H2O cluster version age:</td>\n<td>27 days </td></tr>\n<tr><td>H2O cluster name:</td>\n<td>H2O_from_python_josh_5z3iu4</td></tr>\n<tr><td>H2O cluster total nodes:</td>\n<td>1</td></tr>\n<tr><td>H2O cluster free memory:</td>\n<td>3.875 Gb</td></tr>\n<tr><td>H2O cluster total cores:</td>\n<td>8</td></tr>\n<tr><td>H2O cluster allowed cores:</td>\n<td>8</td></tr>\n<tr><td>H2O cluster status:</td>\n<td>locked, healthy</td></tr>\n<tr><td>H2O connection url:</td>\n<td>http://localhost:54321</td></tr>\n<tr><td>H2O connection proxy:</td>\n<td>{'http': None, 'https': None}</td></tr>\n<tr><td>H2O internal security:</td>\n<td>False</td></tr>\n<tr><td>H2O API Extensions:</td>\n<td>Amazon S3, XGBoost, Algos, AutoML, Core V3, TargetEncoder, Core V4</td></tr>\n<tr><td>Python version:</td>\n<td>3.6.9 final</td></tr></table></div>"
     },
     "metadata": {},
     "output_type": "display_data"
    }
   ],
   "source": [
    "import numpy as np\n",
    "import pandas as pd\n",
    "import h2o\n",
    "\n",
    "from sklearn.model_selection import train_test_split\n",
    "from h2o import H2OFrame\n",
    "from h2o.estimators import *\n",
    "\n",
    "h2o.init()"
   ],
   "metadata": {
    "collapsed": false,
    "pycharm": {
     "name": "#%%\n",
     "is_executing": false
    }
   }
  },
  {
   "cell_type": "code",
   "execution_count": 9,
   "outputs": [],
   "source": [
    "class ModelTester:\n",
    "    \n",
    "    def __init__(self, df_train: H2OFrame, df_test: H2OFrame):\n",
    "        self.train_data, self.test_data = df_train.split_frame(ratios=[0.8])\n",
    "        self.full_train = df_train\n",
    "        self.full_test = df_test\n",
    "        \n",
    "        self.columns = df_train.columns\n",
    "        self.columns.remove('Buy')\n",
    "        \n",
    "    def test(self, model: H2OEstimator):\n",
    "        model.train(\n",
    "            x=self.columns,\n",
    "            y='Buy',\n",
    "            training_frame=self.train_data,\n",
    "        )\n",
    "        \n",
    "        raw_predictions = model.predict(self.test_data).as_data_frame()['predict']\n",
    "        mean = raw_predictions.mean()\n",
    "        \n",
    "        predictions = (raw_predictions > mean).apply(int)\n",
    "        actuals = self.test_data.as_data_frame()['Buy']\n",
    "        \n",
    "        accuracy = sum([prediction == actual for prediction, actual in zip(predictions, actuals)]) / len(predictions)\n",
    "        \n",
    "        return accuracy\n",
    "        \n",
    "    def submit(self, model: H2OEstimator):\n",
    "        model.train(\n",
    "            x=self.columns,\n",
    "            y='Buy',\n",
    "            training_frame=self.full_train,\n",
    "        )\n",
    "        \n",
    "        prediction = model.predict(self.full_test).as_data_frame()['predict']\n",
    "        mean = prediction.mean()\n",
    "        \n",
    "        result_df = self.full_test.as_data_frame()\n",
    "        result_df['Buy'] = (prediction > mean).apply(int)\n",
    "        result_df[['Unnamed: 0', 'Buy']].to_csv(\n",
    "            'submission.csv',\n",
    "            index=None,\n",
    "            header=True,\n",
    "        )"
   ],
   "metadata": {
    "collapsed": false,
    "pycharm": {
     "name": "#%%\n",
     "is_executing": false
    }
   }
  },
  {
   "cell_type": "code",
   "execution_count": 5,
   "outputs": [
    {
     "name": "stdout",
     "text": [
      "Parse progress: |█████████████████████████████████████████████████████████| 100%\n",
      "Parse progress: |█████████████████████████████████████████████████████████| 100%\n"
     ],
     "output_type": "stream"
    }
   ],
   "source": [
    "train_data = h2o.import_file('data/stock_XY_train.csv').drop(['operatingProfitMargin', 'Ticker', 'Sector', 'Yr'], axis=1)\n",
    "test_data = h2o.import_file('data/stock_X_test.csv').drop(['operatingProfitMargin', 'Ticker', 'Sector', 'Yr'], axis=1)"
   ],
   "metadata": {
    "collapsed": false,
    "pycharm": {
     "name": "#%%\n",
     "is_executing": false
    }
   }
  },
  {
   "cell_type": "code",
   "execution_count": 10,
   "outputs": [],
   "source": [
    "model_tester = ModelTester(\n",
    "    train_data,\n",
    "    test_data,\n",
    ")\n",
    "\n",
    "results = {}"
   ],
   "metadata": {
    "collapsed": false,
    "pycharm": {
     "name": "#%%\n",
     "is_executing": false
    }
   }
  },
  {
   "cell_type": "code",
   "execution_count": null,
   "outputs": [
    {
     "name": "stdout",
     "text": [
      "deeplearning Model Build progress: |█████████████████████████"
     ],
     "output_type": "stream"
    }
   ],
   "source": [
    "results['H2ODeepLearningEstimator()'] = model_tester.test(H2ODeepLearningEstimator())\n",
    "\n",
    "results['H2OGradientBoostingEstimator()'] = model_tester.test(H2OGradientBoostingEstimator())\n",
    "results['H2OGradientBoostingEstimator(balance_classes=True)'] = model_tester.test(H2OGradientBoostingEstimator(balance_classes=True))\n",
    "\n",
    "# results['H2OGeneralizedLinearEstimator()'] = model_tester.test(H2OGeneralizedLinearEstimator())\n",
    "# results['H2OGeneralizedLinearEstimator(alpha=0.25)'] = model_tester.test(H2OGeneralizedLinearEstimator(alpha=0.25))\n",
    "# results['H2OGeneralizedLinearEstimator(alpha=0.5)'] = model_tester.test(H2OGeneralizedLinearEstimator(alpha=0.5))\n",
    "# results['H2OGeneralizedLinearEstimator(alpha=0.75)'] = model_tester.test(H2OGeneralizedLinearEstimator(alpha=0.75))\n",
    "\n",
    "# results['H2ONaiveBayesEstimator()'] = model_tester.test(H2ONaiveBayesEstimator())\n",
    "# results['H2ONaiveBayesEstimator(balance_classes=True)'] = model_tester.test(H2ONaiveBayesEstimator(balance_classes=True))\n",
    "# results['H2ONaiveBayesEstimator(nfolds=5)'] = model_tester.test(H2ONaiveBayesEstimator(nfolds=5))\n",
    "# results['H2ONaiveBayesEstimator(nfolds=5, balance_classes=True)'] = model_tester.test(H2ONaiveBayesEstimator(nfolds=5, balance_classes=True))\n",
    "\n",
    "# results['H2OSupportVectorMachineEstimator(disable_training_metrics=False)'] = model_tester.test(H2OSupportVectorMachineEstimator(disable_training_metrics=False))\n",
    "\n",
    "results['H2ORandomForestEstimator()'] = model_tester.test(H2ORandomForestEstimator())\n",
    "\n",
    "# results['H2OStackedEnsembleEstimator()'] = model_tester.test(H2OStackedEnsembleEstimator())\n",
    "\n",
    "# results['H2OTargetEncoderEstimator()'] = model_tester.test(H2OTargetEncoderEstimator())\n",
    "\n",
    "results['H2OXGBoostEstimator()'] = model_tester.test(H2OXGBoostEstimator())"
   ],
   "metadata": {
    "collapsed": false,
    "pycharm": {
     "name": "#%%\n",
     "is_executing": true
    }
   }
  },
  {
   "cell_type": "code",
   "execution_count": 89,
   "outputs": [
    {
     "name": "stdout",
     "text": [
      "xgboost Model Build progress: |███████████████████████████████████████████| 100%\n",
      "xgboost prediction progress: |████████████████████████████████████████████| 100%\n"
     ],
     "output_type": "stream"
    }
   ],
   "source": [
    "results\n",
    "# model_tester.submit(H2OXGBoostEstimator())"
   ],
   "metadata": {
    "collapsed": false,
    "pycharm": {
     "name": "#%%\n",
     "is_executing": false
    }
   }
  }
 ],
 "metadata": {
  "kernelspec": {
   "display_name": "Python 3",
   "language": "python",
   "name": "python3"
  },
  "language_info": {
   "codemirror_mode": {
    "name": "ipython",
    "version": 3
   },
   "file_extension": ".py",
   "mimetype": "text/x-python",
   "name": "python",
   "nbconvert_exporter": "python",
   "pygments_lexer": "ipython3",
   "version": "3.6.9"
  },
  "pycharm": {
   "stem_cell": {
    "cell_type": "raw",
    "source": [],
    "metadata": {
     "collapsed": false
    }
   }
  }
 },
 "nbformat": 4,
 "nbformat_minor": 1
}