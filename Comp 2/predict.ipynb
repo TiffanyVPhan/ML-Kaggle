{
 "cells": [
  {
   "cell_type": "code",
   "execution_count": null,
   "outputs": [],
   "source": [
    "import h2o\n",
    "\n",
    "from h2o import H2OFrame\n",
    "from h2o.estimators import *\n",
    "\n",
    "h2o.init()"
   ],
   "metadata": {
    "collapsed": false,
    "pycharm": {
     "name": "#%%\n"
    }
   }
  },
  {
   "cell_type": "code",
   "execution_count": 26,
   "outputs": [],
   "source": [
    "class ModelTester:\n",
    "    \n",
    "    def __init__(self, df_train: H2OFrame, df_test: H2OFrame):\n",
    "        self.train_data, self.test_data = df_train.split_frame(ratios=[0.8])\n",
    "        self.full_train = df_train\n",
    "        self.full_test = df_test\n",
    "        \n",
    "        self.columns = df_train.columns\n",
    "        self.columns.remove('Buy')\n",
    "        \n",
    "    def test_trained(self, model: H2OEstimator):\n",
    "        raw_predictions = model.predict(self.test_data).as_data_frame()['predict']\n",
    "        mean = raw_predictions.mean()\n",
    "        \n",
    "        predictions = (raw_predictions > mean).apply(int)\n",
    "        actuals = self.test_data.as_data_frame()['Buy']\n",
    "        \n",
    "        accuracy = sum([prediction == actual for prediction, actual in zip(predictions, actuals)]) / len(predictions)\n",
    "        \n",
    "        return accuracy\n",
    "        \n",
    "    def test(self, model: H2OEstimator):\n",
    "        model.train(\n",
    "            x=self.columns,\n",
    "            y='Buy',\n",
    "            training_frame=self.train_data,\n",
    "        )\n",
    "        \n",
    "        return self.test_trained(model)\n",
    "\n",
    "        \n",
    "    def submit(self, model: H2OEstimator):\n",
    "        model.train(\n",
    "            x=self.columns,\n",
    "            y='Buy',\n",
    "            training_frame=self.full_train,\n",
    "        )\n",
    "        \n",
    "        prediction = model.predict(self.full_test).as_data_frame()['predict']\n",
    "        \n",
    "        result_df = self.full_test.as_data_frame()\n",
    "        result_df['Buy'] = (prediction > 0.5).apply(int)\n",
    "        result_df[['Unnamed: 0', 'Buy']].to_csv(\n",
    "            'submission.csv',\n",
    "            index=None,\n",
    "            header=True,\n",
    "        )"
   ],
   "metadata": {
    "collapsed": false,
    "pycharm": {
     "name": "#%%\n",
     "is_executing": false
    }
   }
  },
  {
   "cell_type": "code",
   "execution_count": 9,
   "outputs": [
    {
     "name": "stdout",
     "text": [
      "Parse progress: |█████████████████████████████████████████████████████████| 100%\n",
      "Parse progress: |█████████████████████████████████████████████████████████| 100%\n"
     ],
     "output_type": "stream"
    }
   ],
   "source": [
    "train_data = h2o.import_file('data/stock_XY_train.csv').drop(['C1', 'operatingProfitMargin', 'Ticker', 'Sector',  'Yr'], axis=1)\n",
    "test_data = h2o.import_file('data/stock_X_test.csv').drop(['C1', 'operatingProfitMargin', 'Ticker', 'Sector',  'Yr'], axis=1)\n",
    "\n",
    "train_data['Buy'] = train_data['Buy'].asfactor() "
   ],
   "metadata": {
    "collapsed": false,
    "pycharm": {
     "name": "#%%\n",
     "is_executing": false
    }
   }
  },
  {
   "cell_type": "code",
   "execution_count": 29,
   "outputs": [],
   "source": [
    "model_tester = ModelTester(\n",
    "    train_data,\n",
    "    test_data,\n",
    ")"
   ],
   "metadata": {
    "collapsed": false,
    "pycharm": {
     "name": "#%%\n",
     "is_executing": false
    }
   }
  },
  {
   "cell_type": "code",
   "execution_count": 30,
   "outputs": [
    {
     "name": "stdout",
     "text": [
      "gbm Model Build progress: |███████████████████████████████████████████████| 100%\n",
      "gbm prediction progress: |████████████████████████████████████████████████| 100%\n",
      "0.609375\n"
     ],
     "output_type": "stream"
    }
   ],
   "source": [
    "gb = H2OGradientBoostingEstimator(\n",
    "    nfolds=50,\n",
    "    fold_assignment=\"Modulo\",\n",
    "    keep_cross_validation_predictions=True,\n",
    ")\n",
    "print('GB:', model_tester.test(gb))\n",
    "\n",
    "rf = H2ORandomForestEstimator(\n",
    "    nfolds=10,\n",
    "    fold_assignment=\"Modulo\",\n",
    "    keep_cross_validation_predictions=True,\n",
    ")\n",
    "\n",
    "print('RF:', model_tester.test(rf))\n",
    "\n",
    "ensemble = H2OStackedEnsembleEstimator(base_models=[gb, rf])\n",
    "\n",
    "print(model_tester.submit(ensemble))"
   ],
   "metadata": {
    "collapsed": false,
    "pycharm": {
     "name": "#%%\n",
     "is_executing": false
    }
   }
  }
 ],
 "metadata": {
  "kernelspec": {
   "display_name": "Python 3",
   "language": "python",
   "name": "python3"
  },
  "language_info": {
   "codemirror_mode": {
    "name": "ipython",
    "version": 3
   },
   "file_extension": ".py",
   "mimetype": "text/x-python",
   "name": "python",
   "nbconvert_exporter": "python",
   "pygments_lexer": "ipython3",
   "version": "3.6.9"
  },
  "pycharm": {
   "stem_cell": {
    "cell_type": "raw",
    "source": [],
    "metadata": {
     "collapsed": false
    }
   }
  }
 },
 "nbformat": 4,
 "nbformat_minor": 1
}