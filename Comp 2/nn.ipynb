{
 "cells": [
  {
   "cell_type": "code",
   "execution_count": 19,
   "metadata": {},
   "outputs": [],
   "source": [
    "import numpy as np\n",
    "import pandas as pd\n",
    "import tensorflow as tf\n",
    "import matplotlib.pyplot as plt\n",
    "\n",
    "from sklearn.model_selection import train_test_split\n",
    "from sklearn.preprocessing import OneHotEncoder \n",
    "from sklearn import preprocessing\n",
    "from tensorflow import keras\n",
    "from tensorflow.keras import layers\n",
    "\n",
    "pd.set_option('display.max_rows', 500)"
   ]
  },
  {
   "cell_type": "code",
   "execution_count": 20,
   "metadata": {},
   "outputs": [
    {
     "name": "stdout",
     "output_type": "stream",
     "text": [
      "OG Data Size:(12379, 226)\n",
      "New Data Size:(8977, 156)\n"
     ]
    }
   ],
   "source": [
    "# Cleaning Data\n",
    "\n",
    "df = pd.read_csv('data/stock_XY_train.csv')\n",
    "print('OG Data Size:{}'.format(df.shape))\n",
    "\n",
    "\n",
    "dropped_columns = (df[df.columns[df.isnull().mean() > 0.15]].columns)\n",
    "df = df[df.columns[df.isnull().mean() < 0.15]] # TO-DO: Tinker around with mean threshold.\n",
    "df = df.dropna()\n",
    "print('New Data Size:{}'.format(df.shape))\n",
    "del df['operatingProfitMargin'] # Got rid of this column because it is all `1`. No reason to keep.\n",
    "\n",
    "del df['Ticker']\n",
    "del df['Sector']\n",
    "del df['Yr']"
   ]
  },
  {
   "cell_type": "code",
   "execution_count": 21,
   "metadata": {},
   "outputs": [],
   "source": [
    "# Separating to train and test data\n",
    "train_df = df.sample(frac=0.8,random_state=0)\n",
    "test_df = df.drop(train_df.index)\n",
    "\n",
    "# Grabbing stats in order to normalize data\n",
    "train_stats = train_df.describe()\n",
    "train_stats.pop('Buy')\n",
    "train_stats = train_stats.transpose()\n",
    "\n",
    "# Separating labels\n",
    "train_label = train_df.pop('Buy')\n",
    "test_label = test_df.pop('Buy')\n",
    "\n",
    "# Normalizing Data\n",
    "def norm(x):\n",
    "    return (x - train_stats['mean']) / train_stats['std']\n",
    "\n",
    "normed_train_data = norm(train_df)\n",
    "normed_test_data = norm(test_df)"
   ]
  },
  {
   "cell_type": "code",
   "execution_count": 22,
   "metadata": {},
   "outputs": [
    {
     "name": "stdout",
     "output_type": "stream",
     "text": [
      "Model: \"sequential_1\"\n",
      "_________________________________________________________________\n",
      "Layer (type)                 Output Shape              Param #   \n",
      "=================================================================\n",
      "dense_3 (Dense)              (None, 64)                9728      \n",
      "_________________________________________________________________\n",
      "dense_4 (Dense)              (None, 64)                4160      \n",
      "_________________________________________________________________\n",
      "dense_5 (Dense)              (None, 1)                 65        \n",
      "=================================================================\n",
      "Total params: 13,953\n",
      "Trainable params: 13,953\n",
      "Non-trainable params: 0\n",
      "_________________________________________________________________\n"
     ]
    }
   ],
   "source": [
    "def build_model():\n",
    "    model = keras.Sequential([\n",
    "        layers.Dense(64, activation='relu', input_shape=[len(train_df.keys())]),\n",
    "        layers.Dense(64, activation='relu'),\n",
    "        layers.Dense(1)\n",
    "    ])\n",
    "\n",
    "    optimizer = tf.keras.optimizers.Adam(\n",
    "                    learning_rate=0.001, \n",
    "                    beta_1=0.9, \n",
    "                    beta_2=0.999, \n",
    "                    epsilon=1e-07, \n",
    "                    amsgrad=False,\n",
    "                    decay=0.001,\n",
    "                    name='Adam')\n",
    "\n",
    "    model.compile(loss='mse',\n",
    "                optimizer=optimizer,\n",
    "                metrics=['mae', 'mse', 'accuracy'])\n",
    "    return model\n",
    "\n",
    "model = build_model()\n",
    "model.summary()"
   ]
  },
  {
   "cell_type": "code",
   "execution_count": 23,
   "metadata": {},
   "outputs": [],
   "source": [
    "EPOCHS = 200\n",
    "BATCH_SIZE = 32\n",
    "\n",
    "history = model.fit(\n",
    "    normed_train_data, \n",
    "    train_label,\n",
    "    epochs=EPOCHS, \n",
    "    validation_split=0.2, \n",
    "    verbose=0,\n",
    "    batch_size=BATCH_SIZE)"
   ]
  },
  {
   "cell_type": "code",
   "execution_count": null,
   "metadata": {},
   "outputs": [],
   "source": [
    "hist = pd.DataFrame(history.history)\n",
    "hist['epoch'] = history.epoch\n",
    "hist"
   ]
  },
  {
   "cell_type": "code",
   "execution_count": null,
   "metadata": {},
   "outputs": [],
   "source": [
    "# plt.plot(hist['epoch'], hist['loss'])\n",
    "plt.plot(hist['epoch'], hist['accuracy'])"
   ]
  },
  {
   "cell_type": "code",
   "execution_count": null,
   "metadata": {},
   "outputs": [],
   "source": [
    "model.fit(normed_train_data, train_label, epochs=200)"
   ]
  },
  {
   "cell_type": "code",
   "execution_count": 24,
   "metadata": {},
   "outputs": [
    {
     "name": "stdout",
     "output_type": "stream",
     "text": [
      "1795/1795 [==============================] - 0s 17us/sample - loss: 166713.2505 - mae: 10.2127 - mse: 166713.2500 - accuracy: 0.6396\n",
      "test loss, test acc: [166713.25047229897, 10.212719, 166713.25, 0.6395543]\n"
     ]
    }
   ],
   "source": [
    "results = model.evaluate(normed_test_data, test_label, batch_size=128)\n",
    "print('test loss, test acc:', results)"
   ]
  },
  {
   "cell_type": "markdown",
   "metadata": {},
   "source": [
    "# Submission File Generation"
   ]
  },
  {
   "cell_type": "code",
   "execution_count": 27,
   "metadata": {
    "scrolled": true
   },
   "outputs": [
    {
     "name": "stderr",
     "output_type": "stream",
     "text": [
      "/home/tiffany/.local/lib/python3.6/site-packages/ipykernel_launcher.py:10: RuntimeWarning: invalid value encountered in greater\n",
      "  # Remove the CWD from sys.path while we load stuff.\n"
     ]
    }
   ],
   "source": [
    "dfTest = pd.read_csv('data/stock_X_test.csv').drop('Unnamed: 0', axis=1).rename({'Unnamed: 0.1': 'Unnamed: 0'}, axis='columns')\n",
    "\n",
    "dfTest = dfTest.drop(dropped_columns, axis=1) # TO-DO: Tinker around with mean threshold.\n",
    "del dfTest['operatingProfitMargin'] # Got rid of this column because it is all `1`. No reason to keep.\n",
    "\n",
    "del dfTest['Ticker']\n",
    "del dfTest['Sector']\n",
    "del dfTest['Yr']\n",
    "\n",
    "dfTest['Buy'] = [1 if x else 0 for x in model.predict(dfTest) > 0]\n",
    "dfTest[['Unnamed: 0', 'Buy']].to_csv('submission.csv', index=None, header=True)"
   ]
  }
 ],
 "metadata": {
  "kernelspec": {
   "display_name": "Python 3",
   "language": "python",
   "name": "python3"
  },
  "language_info": {
   "codemirror_mode": {
    "name": "ipython",
    "version": 3
   },
   "file_extension": ".py",
   "mimetype": "text/x-python",
   "name": "python",
   "nbconvert_exporter": "python",
   "pygments_lexer": "ipython3",
   "version": "3.6.9"
  }
 },
 "nbformat": 4,
 "nbformat_minor": 2
}
