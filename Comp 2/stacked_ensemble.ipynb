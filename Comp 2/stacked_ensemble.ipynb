{
 "cells": [
  {
   "cell_type": "code",
   "execution_count": 1,
   "outputs": [
    {
     "name": "stdout",
     "text": [
      "Checking whether there is an H2O instance running at http://localhost:54321 ..... not found.\n",
      "Attempting to start a local H2O server...\n",
      "  Java Version: openjdk version \"11.0.6\" 2020-01-14; OpenJDK Runtime Environment (build 11.0.6+10-post-Ubuntu-1ubuntu118.04.1); OpenJDK 64-Bit Server VM (build 11.0.6+10-post-Ubuntu-1ubuntu118.04.1, mixed mode, sharing)\n",
      "  Starting server from /home/josh/.local/lib/python3.6/site-packages/h2o/backend/bin/h2o.jar\n",
      "  Ice root: /tmp/tmpicupi_ox\n",
      "  JVM stdout: /tmp/tmpicupi_ox/h2o_josh_started_from_python.out\n",
      "  JVM stderr: /tmp/tmpicupi_ox/h2o_josh_started_from_python.err\n",
      "  Server is running at http://127.0.0.1:54321\n",
      "Connecting to H2O server at http://127.0.0.1:54321 ... successful.\n"
     ],
     "output_type": "stream"
    },
    {
     "data": {
      "text/plain": "--------------------------  ------------------------------------------------------------------\nH2O cluster uptime:         01 secs\nH2O cluster timezone:       America/Denver\nH2O data parsing timezone:  UTC\nH2O cluster version:        3.28.0.3\nH2O cluster version age:    1 month and 2 days\nH2O cluster name:           H2O_from_python_josh_lz8ucu\nH2O cluster total nodes:    1\nH2O cluster free memory:    3.875 Gb\nH2O cluster total cores:    8\nH2O cluster allowed cores:  8\nH2O cluster status:         accepting new members, healthy\nH2O connection url:         http://127.0.0.1:54321\nH2O connection proxy:       {'http': None, 'https': None}\nH2O internal security:      False\nH2O API Extensions:         Amazon S3, XGBoost, Algos, AutoML, Core V3, TargetEncoder, Core V4\nPython version:             3.6.9 final\n--------------------------  ------------------------------------------------------------------",
      "text/html": "<div style=\"overflow:auto\"><table style=\"width:50%\"><tr><td>H2O cluster uptime:</td>\n<td>01 secs</td></tr>\n<tr><td>H2O cluster timezone:</td>\n<td>America/Denver</td></tr>\n<tr><td>H2O data parsing timezone:</td>\n<td>UTC</td></tr>\n<tr><td>H2O cluster version:</td>\n<td>3.28.0.3</td></tr>\n<tr><td>H2O cluster version age:</td>\n<td>1 month and 2 days </td></tr>\n<tr><td>H2O cluster name:</td>\n<td>H2O_from_python_josh_lz8ucu</td></tr>\n<tr><td>H2O cluster total nodes:</td>\n<td>1</td></tr>\n<tr><td>H2O cluster free memory:</td>\n<td>3.875 Gb</td></tr>\n<tr><td>H2O cluster total cores:</td>\n<td>8</td></tr>\n<tr><td>H2O cluster allowed cores:</td>\n<td>8</td></tr>\n<tr><td>H2O cluster status:</td>\n<td>accepting new members, healthy</td></tr>\n<tr><td>H2O connection url:</td>\n<td>http://127.0.0.1:54321</td></tr>\n<tr><td>H2O connection proxy:</td>\n<td>{'http': None, 'https': None}</td></tr>\n<tr><td>H2O internal security:</td>\n<td>False</td></tr>\n<tr><td>H2O API Extensions:</td>\n<td>Amazon S3, XGBoost, Algos, AutoML, Core V3, TargetEncoder, Core V4</td></tr>\n<tr><td>Python version:</td>\n<td>3.6.9 final</td></tr></table></div>"
     },
     "metadata": {},
     "output_type": "display_data"
    }
   ],
   "source": [
    "import h2o\n",
    "\n",
    "from h2o import H2OFrame\n",
    "from h2o.estimators import *\n",
    "\n",
    "h2o.init()"
   ],
   "metadata": {
    "collapsed": false,
    "pycharm": {
     "name": "#%%\n",
     "is_executing": false
    }
   }
  },
  {
   "cell_type": "code",
   "execution_count": 2,
   "outputs": [],
   "source": [
    "class ModelTester:\n",
    "    \n",
    "    def __init__(self, df_train: H2OFrame, df_test: H2OFrame):\n",
    "        self.train_data, self.test_data = df_train.split_frame(ratios=[0.8])\n",
    "        self.full_train = df_train\n",
    "        self.full_test = df_test\n",
    "        \n",
    "        self.columns = df_train.columns\n",
    "        self.columns.remove('Buy')\n",
    "        \n",
    "    def test_trained(self, model: H2OEstimator):\n",
    "        raw_predictions = model.predict(self.test_data).as_data_frame()['predict']\n",
    "        mean = raw_predictions.mean()\n",
    "        \n",
    "        predictions = (raw_predictions > mean).apply(int)\n",
    "        actuals = self.test_data.as_data_frame()['Buy']\n",
    "        \n",
    "        accuracy = sum([prediction == actual for prediction, actual in zip(predictions, actuals)]) / len(predictions)\n",
    "        \n",
    "        return accuracy\n",
    "        \n",
    "    def test(self, model: H2OEstimator):\n",
    "        model.train(\n",
    "            x=self.columns,\n",
    "            y='Buy',\n",
    "            training_frame=self.train_data,\n",
    "        )\n",
    "        \n",
    "        return self.test_trained(model)\n",
    "\n",
    "        \n",
    "    def submit(self, model: H2OEstimator):\n",
    "        model.train(\n",
    "            x=self.columns,\n",
    "            y='Buy',\n",
    "            training_frame=self.full_train,\n",
    "        )\n",
    "        \n",
    "        prediction = model.predict(self.full_test).as_data_frame()['predict']\n",
    "        \n",
    "        result_df = self.full_test.as_data_frame()\n",
    "        result_df['Buy'] = (prediction > 0.5).apply(int)\n",
    "        result_df[['Unnamed: 0', 'Buy']].to_csv(\n",
    "            'submission.csv',\n",
    "            index=None,\n",
    "            header=True,\n",
    "        )"
   ],
   "metadata": {
    "collapsed": false,
    "pycharm": {
     "name": "#%%\n",
     "is_executing": false
    }
   }
  },
  {
   "cell_type": "code",
   "execution_count": 3,
   "outputs": [
    {
     "name": "stdout",
     "text": [
      "Parse progress: |█████████████████████████████████████████████████████████| 100%\n",
      "Parse progress: |█████████████████████████████████████████████████████████| 100%\n"
     ],
     "output_type": "stream"
    }
   ],
   "source": [
    "train_data = h2o.import_file('data/stock_XY_train.csv').drop(['C1', 'operatingProfitMargin', 'Ticker', 'Sector',  'Yr'], axis=1)\n",
    "test_data = h2o.import_file('data/stock_X_test.csv').drop(['C1', 'operatingProfitMargin', 'Ticker', 'Sector',  'Yr'], axis=1)\n",
    "\n",
    "train_data['Buy'] = train_data['Buy'].asfactor() "
   ],
   "metadata": {
    "collapsed": false,
    "pycharm": {
     "name": "#%%\n",
     "is_executing": false
    }
   }
  },
  {
   "cell_type": "code",
   "execution_count": 4,
   "outputs": [],
   "source": [
    "model_tester = ModelTester(\n",
    "    train_data,\n",
    "    test_data,\n",
    ")"
   ],
   "metadata": {
    "collapsed": false,
    "pycharm": {
     "name": "#%%\n",
     "is_executing": false
    }
   }
  },
  {
   "cell_type": "code",
   "execution_count": 7,
   "outputs": [
    {
     "name": "stdout",
     "text": [
      "gbm Model Build progress: |███████████████████████████████████████████████| 100%\n",
      "gbm prediction progress: |████████████████████████████████████████████████| 100%\n",
      "GB: None\n",
      "drf Model Build progress: |███████████████████████████████████████████████| 100%\n",
      "drf prediction progress: |████████████████████████████████████████████████| 100%\n",
      "RF: None\n"
     ],
     "output_type": "stream"
    }
   ],
   "source": [
    "gb = H2OGradientBoostingEstimator(distribution='bernoulli',\n",
    "                                  ntrees=10,\n",
    "                                  max_depth=3,\n",
    "                                  min_rows=2,\n",
    "                                  learn_rate=0.2,\n",
    "                                  nfolds=5,\n",
    "                                  fold_assignment='Modulo',\n",
    "                                  keep_cross_validation_predictions=True,\n",
    "                                  seed=1234)\n",
    "model_tester.submit(gb)\n",
    "\n",
    "rf = H2ORandomForestEstimator(ntrees=50,\n",
    "                              nfolds=5,\n",
    "                              fold_assignment='Modulo',\n",
    "                              keep_cross_validation_predictions=True,\n",
    "                              seed=1234)\n",
    "model_tester.submit(rf)"
   ],
   "metadata": {
    "collapsed": false,
    "pycharm": {
     "name": "#%%\n",
     "is_executing": false
    }
   }
  },
  {
   "cell_type": "code",
   "execution_count": 8,
   "outputs": [
    {
     "name": "stdout",
     "text": [
      "stackedensemble Model Build progress: |███████████████████████████████████| 100%\n",
      "stackedensemble prediction progress: |████████████████████████████████████| 100%\n"
     ],
     "output_type": "stream"
    }
   ],
   "source": [
    "ensemble = H2OStackedEnsembleEstimator(base_models=[gb, rf])\n",
    "\n",
    "model_tester.submit(ensemble)"
   ],
   "metadata": {
    "collapsed": false,
    "pycharm": {
     "name": "#%%\n",
     "is_executing": false
    }
   }
  }
 ],
 "metadata": {
  "kernelspec": {
   "display_name": "Python 3",
   "language": "python",
   "name": "python3"
  },
  "language_info": {
   "codemirror_mode": {
    "name": "ipython",
    "version": 3
   },
   "file_extension": ".py",
   "mimetype": "text/x-python",
   "name": "python",
   "nbconvert_exporter": "python",
   "pygments_lexer": "ipython3",
   "version": "3.6.9"
  },
  "pycharm": {
   "stem_cell": {
    "cell_type": "raw",
    "source": [],
    "metadata": {
     "collapsed": false
    }
   }
  }
 },
 "nbformat": 4,
 "nbformat_minor": 1
}